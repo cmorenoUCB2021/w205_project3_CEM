{
 "cells": [
  {
   "cell_type": "code",
   "execution_count": 1,
   "metadata": {
    "collapsed": true
   },
   "outputs": [],
   "source": [
    "import pandas as pd\n",
    "import sqlalchemy\n",
    "#from sqlalchemy import create_engine\n",
    "from sqlalchemy.engine import create_engine\n"
   ]
  },
  {
   "cell_type": "code",
   "execution_count": 2,
   "metadata": {
    "collapsed": true
   },
   "outputs": [],
   "source": [
    "purchase_events_df = spark.read.parquet(\"/tmp/purchase_events\")"
   ]
  },
  {
   "cell_type": "code",
   "execution_count": 3,
   "metadata": {},
   "outputs": [
    {
     "name": "stdout",
     "output_type": "stream",
     "text": [
      "+-----------------------+---------+---------------------+---------------+---------+--------+-----------+-----+\n",
      "|event_ts               |userid   |Host                 |event_type     |name     |strength|n_purchased|price|\n",
      "+-----------------------+---------+---------------------+---------------+---------+--------+-----------+-----+\n",
      "|2021-12-10 01:40:12.744|user-005 |user-005.comcast.com |purchase_knife |kukri    |500     |7          |1000 |\n",
      "|2021-12-10 01:40:18.733|user-005 |user-005.comcast.com |purchase_knife |kukri    |500     |6          |1000 |\n",
      "|2021-12-10 01:40:30.717|user-009 |user-009.comcast.com |purchase_shield|parma    |800     |4          |1500 |\n",
      "|2021-12-10 01:40:50.152|user-003 |user-003.comcast.com |purchase_knife |kukri    |500     |1          |1000 |\n",
      "|2021-12-10 01:40:53.178|user-007 |user-007.comcast.com |purchase_sword |excalibur|1000    |6          |2000 |\n",
      "|2021-12-10 02:56:35.759|user-0010|user-0010.comcast.com|purchase_shield|parma    |800     |1          |1500 |\n",
      "|2021-12-10 02:56:49.155|user-0010|user-0010.comcast.com|purchase_shield|parma    |800     |2          |1500 |\n",
      "|2021-12-10 02:56:51.133|user-006 |user-006.comcast.com |purchase_knife |kukri    |500     |2          |1000 |\n",
      "|2021-12-10 02:56:58.697|user-004 |user-004.comcast.com |purchase_sword |excalibur|1000    |6          |2000 |\n",
      "|2021-12-10 02:19:52.831|user-007 |user-007.comcast.com |purchase_knife |kukri    |500     |6          |1000 |\n",
      "+-----------------------+---------+---------------------+---------------+---------+--------+-----------+-----+\n",
      "only showing top 10 rows\n",
      "\n"
     ]
    }
   ],
   "source": [
    "purchase_events_df.show(10,truncate=False)"
   ]
  },
  {
   "cell_type": "code",
   "execution_count": 4,
   "metadata": {
    "collapsed": true
   },
   "outputs": [],
   "source": [
    "guid_events_df = spark.read.parquet(\"/tmp/guild_events\")"
   ]
  },
  {
   "cell_type": "code",
   "execution_count": 6,
   "metadata": {},
   "outputs": [
    {
     "name": "stdout",
     "output_type": "stream",
     "text": [
      "+-----------------------+-----------+---------------------+----------+----------------------------+--------+-----------+-----+\n",
      "|event_ts               |userid     |Host                 |event_type|name                        |strength|n_purchased|price|\n",
      "+-----------------------+-----------+---------------------+----------+----------------------------+--------+-----------+-----+\n",
      "|2021-12-09 14:12:15.144|'user-0010'|user-0010.comcast.com|join_guild|'Castle_of_Rock'            |1200    |1          |1000 |\n",
      "|2021-12-09 14:12:16.55 |'user-003' |user-003.comcast.com |join_guild|'Game_of_Thrones'           |1500    |1          |2000 |\n",
      "|2021-12-09 14:12:14.683|'user-0010'|user-0010.comcast.com|join_guild|'Knights_of_the_Round_Table'|5000    |1          |3000 |\n",
      "|2021-12-09 14:12:14.676|'user-0010'|user-0010.comcast.com|join_guild|'Knights_of_the_Round_Table'|5000    |1          |3000 |\n",
      "|2021-12-09 14:12:14.687|'user-0010'|user-0010.comcast.com|join_guild|'Knights_of_the_Round_Table'|5000    |1          |3000 |\n",
      "|2021-12-09 14:12:14.68 |'user-0010'|user-0010.comcast.com|join_guild|'Knights_of_the_Round_Table'|5000    |1          |3000 |\n",
      "|2021-12-09 14:12:16.082|'user-003' |user-003.comcast.com |join_guild|'Knights_of_the_Round_Table'|5000    |1          |3000 |\n",
      "|2021-12-09 14:12:16.078|'user-003' |user-003.comcast.com |join_guild|'Knights_of_the_Round_Table'|5000    |1          |3000 |\n",
      "|2021-12-09 14:12:16.091|'user-003' |user-003.comcast.com |join_guild|'Knights_of_the_Round_Table'|5000    |1          |3000 |\n",
      "|2021-12-09 14:12:16.07 |'user-003' |user-003.comcast.com |join_guild|'Knights_of_the_Round_Table'|5000    |1          |3000 |\n",
      "+-----------------------+-----------+---------------------+----------+----------------------------+--------+-----------+-----+\n",
      "only showing top 10 rows\n",
      "\n"
     ]
    }
   ],
   "source": [
    "guid_events_df.show(10,truncate=False)"
   ]
  },
  {
   "cell_type": "code",
   "execution_count": 5,
   "metadata": {
    "collapsed": true
   },
   "outputs": [],
   "source": [
    "fight_events_df = spark.read.parquet(\"/tmp/fight_events\")"
   ]
  },
  {
   "cell_type": "code",
   "execution_count": 6,
   "metadata": {},
   "outputs": [
    {
     "name": "stdout",
     "output_type": "stream",
     "text": [
      "+-----------------------+---------+---------------------+-----------+-----+----------+\n",
      "|event_ts               |userid   |Host                 |event_type |score|win_status|\n",
      "+-----------------------+---------+---------------------+-----------+-----+----------+\n",
      "|2021-12-10 02:56:46.434|user-0010|user-0010.comcast.com|fight_event|-10  |lost      |\n",
      "|2021-12-10 02:56:52.472|user-0010|user-0010.comcast.com|fight_event|-10  |lost      |\n",
      "|2021-12-10 01:40:21.888|user-005 |user-005.comcast.com |fight_event|100  |won       |\n",
      "|2021-12-10 01:40:31.633|user-0010|user-0010.comcast.com|fight_event|100  |won       |\n",
      "|2021-12-10 02:20:50.532|user-006 |user-006.comcast.com |fight_event|-10  |lost      |\n",
      "|2021-12-10 02:20:52.398|user-007 |user-007.comcast.com |fight_event|-10  |lost      |\n",
      "|2021-12-10 02:56:58.123|user-005 |user-005.comcast.com |fight_event|100  |won       |\n",
      "|2021-12-10 02:57:04.733|user-006 |user-006.comcast.com |fight_event|100  |won       |\n",
      "|2021-12-10 01:41:52.614|user-006 |localhost:5000       |fight_event|-10  |lost      |\n",
      "|2021-12-10 01:41:55.788|user-006 |localhost:5000       |fight_event|-10  |lost      |\n",
      "+-----------------------+---------+---------------------+-----------+-----+----------+\n",
      "only showing top 10 rows\n",
      "\n"
     ]
    }
   ],
   "source": [
    "fight_events_df.show(10,truncate=False)"
   ]
  },
  {
   "cell_type": "code",
   "execution_count": 7,
   "metadata": {
    "collapsed": true
   },
   "outputs": [],
   "source": [
    "purchase_events_df.registerTempTable('purchase_events')"
   ]
  },
  {
   "cell_type": "code",
   "execution_count": 11,
   "metadata": {},
   "outputs": [
    {
     "name": "stdout",
     "output_type": "stream",
     "text": [
      "+---------------+-----------------+\n",
      "|event_type     |count_of_purchase|\n",
      "+---------------+-----------------+\n",
      "|purchase_shield|1679             |\n",
      "|purchase_sword |1660             |\n",
      "|purchase_knife |1519             |\n",
      "+---------------+-----------------+\n",
      "\n"
     ]
    }
   ],
   "source": [
    "#Q1. Which item is most popular?\n",
    "spark.sql(\"\"\"\n",
    "            select event_type,sum(n_purchased) as count_of_purchase\n",
    "            from purchase_events\n",
    "            group by event_type order  by count_of_purchase DESC \n",
    "          \"\"\").show(truncate=False)"
   ]
  },
  {
   "cell_type": "code",
   "execution_count": 8,
   "metadata": {},
   "outputs": [
    {
     "name": "stdout",
     "output_type": "stream",
     "text": [
      "+------------+\n",
      "|average_item|\n",
      "+------------+\n",
      "|486.0       |\n",
      "+------------+\n",
      "\n"
     ]
    }
   ],
   "source": [
    "#Q2. In average, how many items a player purchases?\n",
    "spark.sql(\"\"\"select round(AVG(A.number_of_items)) as average_item from(\n",
    "            select userid,sum(n_purchased) as number_of_items\n",
    "            from purchase_events\n",
    "            group by userid ) A     \n",
    "          \"\"\").show(truncate=False)"
   ]
  },
  {
   "cell_type": "code",
   "execution_count": 9,
   "metadata": {},
   "outputs": [
    {
     "name": "stdout",
     "output_type": "stream",
     "text": [
      "+---------------+--------+\n",
      "|event_type     |count(1)|\n",
      "+---------------+--------+\n",
      "|purchase_sword |5       |\n",
      "|purchase_knife |3       |\n",
      "|purchase_shield|2       |\n",
      "+---------------+--------+\n",
      "\n"
     ]
    }
   ],
   "source": [
    "#Q3. What items users purchased first?\n",
    "spark.sql(\"\"\" select A.event_type,count(*) from\n",
    "            (select event_ts,userid ,event_type,\n",
    "            RANK() OVER(PARTITION BY userid ORDER BY event_ts DESC) Rank\n",
    "            from purchase_events) A where Rank=1 group by A.event_type\n",
    "          \"\"\").show(truncate=False)"
   ]
  },
  {
   "cell_type": "code",
   "execution_count": 10,
   "metadata": {},
   "outputs": [
    {
     "name": "stdout",
     "output_type": "stream",
     "text": [
      "+----------------------+\n",
      "|count(DISTINCT userid)|\n",
      "+----------------------+\n",
      "|10                    |\n",
      "+----------------------+\n",
      "\n"
     ]
    }
   ],
   "source": [
    "#Q4 How many users purchased the game so far?\n",
    "spark.sql(\"\"\" select count(distinct (userid)) from purchase_events\n",
    "          \"\"\").show(truncate=False)"
   ]
  },
  {
   "cell_type": "code",
   "execution_count": 12,
   "metadata": {},
   "outputs": [
    {
     "name": "stdout",
     "output_type": "stream",
     "text": [
      "+---------+-----------------+\n",
      "|userid   |count_of_purchase|\n",
      "+---------+-----------------+\n",
      "|user-003 |591              |\n",
      "|user-004 |584              |\n",
      "|user-005 |563              |\n",
      "|user-002 |551              |\n",
      "|user-007 |492              |\n",
      "|user-008 |491              |\n",
      "|user-006 |461              |\n",
      "|user-001 |438              |\n",
      "|user-009 |354              |\n",
      "|user-0010|333              |\n",
      "+---------+-----------------+\n",
      "\n"
     ]
    }
   ],
   "source": [
    "#Q5. Who gets most items in total and how many of them?\n",
    "spark.sql(\"\"\"select userid,sum(n_purchased) as count_of_purchase\n",
    "            from purchase_events\n",
    "            group by userid order by count_of_purchase DESC \n",
    "          \"\"\").show(truncate=False)"
   ]
  },
  {
   "cell_type": "code",
   "execution_count": 13,
   "metadata": {},
   "outputs": [
    {
     "name": "stdout",
     "output_type": "stream",
     "text": [
      "+---------+---------------+\n",
      "|userid   |sum_of_purchase|\n",
      "+---------+---------------+\n",
      "|user-003 |169500         |\n",
      "|user-004 |152500         |\n",
      "|user-007 |141000         |\n",
      "|user-002 |139500         |\n",
      "|user-005 |130000         |\n",
      "|user-008 |120000         |\n",
      "|user-009 |115500         |\n",
      "|user-006 |105500         |\n",
      "|user-0010|104500         |\n",
      "|user-001 |104000         |\n",
      "+---------+---------------+\n",
      "\n"
     ]
    }
   ],
   "source": [
    "#Q6. Who spent the most money in todal and how much is it?\n",
    "spark.sql(\"\"\"select userid,sum(price) as sum_of_purchase\n",
    "            from purchase_events\n",
    "            group by userid order by sum_of_purchase DESC \n",
    "          \"\"\").show(truncate=False)"
   ]
  },
  {
   "cell_type": "code",
   "execution_count": 8,
   "metadata": {},
   "outputs": [
    {
     "name": "stdout",
     "output_type": "stream",
     "text": [
      "+-----------------------+----------+--------------------+---------------+-----+--------+-----------+-----+\n",
      "|event_ts               |userid    |Host                |event_type     |name |strength|n_purchased|price|\n",
      "+-----------------------+----------+--------------------+---------------+-----+--------+-----------+-----+\n",
      "|2021-12-09 14:12:17.084|'user-001'|user-001.comcast.com|purchase_shield|parma|800     |10         |1500 |\n",
      "+-----------------------+----------+--------------------+---------------+-----+--------+-----------+-----+\n",
      "\n"
     ]
    }
   ],
   "source": [
    "spark.sql(\"\"\"\n",
    "            select *\n",
    "            from purchase_events\n",
    "            Limit 1\n",
    "          \"\"\").show(truncate=False)"
   ]
  },
  {
   "cell_type": "code",
   "execution_count": 15,
   "metadata": {},
   "outputs": [
    {
     "name": "stdout",
     "output_type": "stream",
     "text": [
      "root\n",
      " |-- event_ts: timestamp (nullable = true)\n",
      " |-- userid: string (nullable = true)\n",
      " |-- Host: string (nullable = true)\n",
      " |-- event_type: string (nullable = true)\n",
      " |-- name: string (nullable = true)\n",
      " |-- strength: long (nullable = true)\n",
      " |-- n_purchased: long (nullable = true)\n",
      " |-- price: long (nullable = true)\n",
      "\n"
     ]
    }
   ],
   "source": [
    "purchase_events_df.printSchema()"
   ]
  },
  {
   "cell_type": "code",
   "execution_count": 16,
   "metadata": {},
   "outputs": [
    {
     "data": {
      "text/plain": [
       "['event_ts',\n",
       " 'userid',\n",
       " 'Host',\n",
       " 'event_type',\n",
       " 'name',\n",
       " 'strength',\n",
       " 'n_purchased',\n",
       " 'price']"
      ]
     },
     "execution_count": 16,
     "metadata": {},
     "output_type": "execute_result"
    }
   ],
   "source": [
    "purchase_events_df.columns"
   ]
  },
  {
   "cell_type": "code",
   "execution_count": 17,
   "metadata": {
    "collapsed": true
   },
   "outputs": [],
   "source": [
    "guild_events_df = spark.read.parquet(\"/tmp/guild_events\")"
   ]
  },
  {
   "cell_type": "code",
   "execution_count": 18,
   "metadata": {
    "collapsed": true
   },
   "outputs": [],
   "source": [
    "guild_events_df.registerTempTable('guild_events')"
   ]
  },
  {
   "cell_type": "code",
   "execution_count": 19,
   "metadata": {},
   "outputs": [
    {
     "name": "stdout",
     "output_type": "stream",
     "text": [
      "root\n",
      " |-- event_ts: timestamp (nullable = true)\n",
      " |-- userid: string (nullable = true)\n",
      " |-- Host: string (nullable = true)\n",
      " |-- event_type: string (nullable = true)\n",
      " |-- name: string (nullable = true)\n",
      " |-- strength: long (nullable = true)\n",
      " |-- n_purchased: long (nullable = true)\n",
      " |-- price: long (nullable = true)\n",
      "\n"
     ]
    }
   ],
   "source": [
    "guild_events_df.printSchema()"
   ]
  },
  {
   "cell_type": "code",
   "execution_count": 22,
   "metadata": {},
   "outputs": [
    {
     "data": {
      "text/plain": [
       "[Table(name='guild_events', database='default', description=None, tableType='EXTERNAL', isTemporary=False),\n",
       " Table(name='purchase_events', database='default', description=None, tableType='EXTERNAL', isTemporary=False),\n",
       " Table(name='guild_events', database=None, description=None, tableType='TEMPORARY', isTemporary=True),\n",
       " Table(name='purchase_events', database=None, description=None, tableType='TEMPORARY', isTemporary=True)]"
      ]
     },
     "execution_count": 22,
     "metadata": {},
     "output_type": "execute_result"
    }
   ],
   "source": [
    "spark.catalog.listTables()"
   ]
  },
  {
   "cell_type": "code",
   "execution_count": 20,
   "metadata": {
    "collapsed": true
   },
   "outputs": [],
   "source": [
    "q1_query = \"\"\"\n",
    "               SELECT event_type,\n",
    "                   sum(amount_purchased) as ttl_purchased\n",
    "               FROM   purchase_events\n",
    "               GROUP  BY event_type \n",
    "           \"\"\""
   ]
  },
  {
   "cell_type": "code",
   "execution_count": 21,
   "metadata": {},
   "outputs": [
    {
     "ename": "AnalysisException",
     "evalue": "\"cannot resolve '`amount_purchased`' given input columns: [price, strength, n_purchased, name, event_type, userid, Host, event_ts]; line 3 pos 23;\\n'Aggregate [event_type#75], [event_type#75, 'sum('amount_purchased) AS ttl_purchased#157]\\n+- SubqueryAlias purchase_events\\n   +- Relation[event_ts#72,userid#73,Host#74,event_type#75,name#76,strength#77L,n_purchased#78L,price#79L] parquet\\n\"",
     "output_type": "error",
     "traceback": [
      "\u001b[0;31m---------------------------------------------------------------------------\u001b[0m",
      "\u001b[0;31mPy4JJavaError\u001b[0m                             Traceback (most recent call last)",
      "\u001b[0;32m/spark-2.2.0-bin-hadoop2.6/python/pyspark/sql/utils.py\u001b[0m in \u001b[0;36mdeco\u001b[0;34m(*a, **kw)\u001b[0m\n\u001b[1;32m     62\u001b[0m         \u001b[0;32mtry\u001b[0m\u001b[0;34m:\u001b[0m\u001b[0;34m\u001b[0m\u001b[0m\n\u001b[0;32m---> 63\u001b[0;31m             \u001b[0;32mreturn\u001b[0m \u001b[0mf\u001b[0m\u001b[0;34m(\u001b[0m\u001b[0;34m*\u001b[0m\u001b[0ma\u001b[0m\u001b[0;34m,\u001b[0m \u001b[0;34m**\u001b[0m\u001b[0mkw\u001b[0m\u001b[0;34m)\u001b[0m\u001b[0;34m\u001b[0m\u001b[0m\n\u001b[0m\u001b[1;32m     64\u001b[0m         \u001b[0;32mexcept\u001b[0m \u001b[0mpy4j\u001b[0m\u001b[0;34m.\u001b[0m\u001b[0mprotocol\u001b[0m\u001b[0;34m.\u001b[0m\u001b[0mPy4JJavaError\u001b[0m \u001b[0;32mas\u001b[0m \u001b[0me\u001b[0m\u001b[0;34m:\u001b[0m\u001b[0;34m\u001b[0m\u001b[0m\n",
      "\u001b[0;32m/spark-2.2.0-bin-hadoop2.6/python/lib/py4j-0.10.4-src.zip/py4j/protocol.py\u001b[0m in \u001b[0;36mget_return_value\u001b[0;34m(answer, gateway_client, target_id, name)\u001b[0m\n\u001b[1;32m    318\u001b[0m                     \u001b[0;34m\"An error occurred while calling {0}{1}{2}.\\n\"\u001b[0m\u001b[0;34m.\u001b[0m\u001b[0;34m\u001b[0m\u001b[0m\n\u001b[0;32m--> 319\u001b[0;31m                     format(target_id, \".\", name), value)\n\u001b[0m\u001b[1;32m    320\u001b[0m             \u001b[0;32melse\u001b[0m\u001b[0;34m:\u001b[0m\u001b[0;34m\u001b[0m\u001b[0m\n",
      "\u001b[0;31mPy4JJavaError\u001b[0m: An error occurred while calling o23.sql.\n: org.apache.spark.sql.AnalysisException: cannot resolve '`amount_purchased`' given input columns: [price, strength, n_purchased, name, event_type, userid, Host, event_ts]; line 3 pos 23;\n'Aggregate [event_type#75], [event_type#75, 'sum('amount_purchased) AS ttl_purchased#157]\n+- SubqueryAlias purchase_events\n   +- Relation[event_ts#72,userid#73,Host#74,event_type#75,name#76,strength#77L,n_purchased#78L,price#79L] parquet\n\n\tat org.apache.spark.sql.catalyst.analysis.package$AnalysisErrorAt.failAnalysis(package.scala:42)\n\tat org.apache.spark.sql.catalyst.analysis.CheckAnalysis$$anonfun$checkAnalysis$1$$anonfun$apply$2.applyOrElse(CheckAnalysis.scala:88)\n\tat org.apache.spark.sql.catalyst.analysis.CheckAnalysis$$anonfun$checkAnalysis$1$$anonfun$apply$2.applyOrElse(CheckAnalysis.scala:85)\n\tat org.apache.spark.sql.catalyst.trees.TreeNode$$anonfun$transformUp$1.apply(TreeNode.scala:289)\n\tat org.apache.spark.sql.catalyst.trees.TreeNode$$anonfun$transformUp$1.apply(TreeNode.scala:289)\n\tat org.apache.spark.sql.catalyst.trees.CurrentOrigin$.withOrigin(TreeNode.scala:70)\n\tat org.apache.spark.sql.catalyst.trees.TreeNode.transformUp(TreeNode.scala:288)\n\tat org.apache.spark.sql.catalyst.trees.TreeNode$$anonfun$3.apply(TreeNode.scala:286)\n\tat org.apache.spark.sql.catalyst.trees.TreeNode$$anonfun$3.apply(TreeNode.scala:286)\n\tat org.apache.spark.sql.catalyst.trees.TreeNode$$anonfun$4$$anonfun$apply$11.apply(TreeNode.scala:335)\n\tat scala.collection.TraversableLike$$anonfun$map$1.apply(TraversableLike.scala:234)\n\tat scala.collection.TraversableLike$$anonfun$map$1.apply(TraversableLike.scala:234)\n\tat scala.collection.mutable.ResizableArray$class.foreach(ResizableArray.scala:59)\n\tat scala.collection.mutable.ArrayBuffer.foreach(ArrayBuffer.scala:48)\n\tat scala.collection.TraversableLike$class.map(TraversableLike.scala:234)\n\tat scala.collection.AbstractTraversable.map(Traversable.scala:104)\n\tat org.apache.spark.sql.catalyst.trees.TreeNode$$anonfun$4.apply(TreeNode.scala:333)\n\tat org.apache.spark.sql.catalyst.trees.TreeNode.mapProductIterator(TreeNode.scala:187)\n\tat org.apache.spark.sql.catalyst.trees.TreeNode.mapChildren(TreeNode.scala:304)\n\tat org.apache.spark.sql.catalyst.trees.TreeNode.transformUp(TreeNode.scala:286)\n\tat org.apache.spark.sql.catalyst.trees.TreeNode$$anonfun$3.apply(TreeNode.scala:286)\n\tat org.apache.spark.sql.catalyst.trees.TreeNode$$anonfun$3.apply(TreeNode.scala:286)\n\tat org.apache.spark.sql.catalyst.trees.TreeNode$$anonfun$4.apply(TreeNode.scala:306)\n\tat org.apache.spark.sql.catalyst.trees.TreeNode.mapProductIterator(TreeNode.scala:187)\n\tat org.apache.spark.sql.catalyst.trees.TreeNode.mapChildren(TreeNode.scala:304)\n\tat org.apache.spark.sql.catalyst.trees.TreeNode.transformUp(TreeNode.scala:286)\n\tat org.apache.spark.sql.catalyst.plans.QueryPlan$$anonfun$transformExpressionsUp$1.apply(QueryPlan.scala:268)\n\tat org.apache.spark.sql.catalyst.plans.QueryPlan$$anonfun$transformExpressionsUp$1.apply(QueryPlan.scala:268)\n\tat org.apache.spark.sql.catalyst.plans.QueryPlan.transformExpression$1(QueryPlan.scala:279)\n\tat org.apache.spark.sql.catalyst.plans.QueryPlan.org$apache$spark$sql$catalyst$plans$QueryPlan$$recursiveTransform$1(QueryPlan.scala:289)\n\tat org.apache.spark.sql.catalyst.plans.QueryPlan$$anonfun$org$apache$spark$sql$catalyst$plans$QueryPlan$$recursiveTransform$1$1.apply(QueryPlan.scala:293)\n\tat scala.collection.TraversableLike$$anonfun$map$1.apply(TraversableLike.scala:234)\n\tat scala.collection.TraversableLike$$anonfun$map$1.apply(TraversableLike.scala:234)\n\tat scala.collection.immutable.List.foreach(List.scala:381)\n\tat scala.collection.TraversableLike$class.map(TraversableLike.scala:234)\n\tat scala.collection.immutable.List.map(List.scala:285)\n\tat org.apache.spark.sql.catalyst.plans.QueryPlan.org$apache$spark$sql$catalyst$plans$QueryPlan$$recursiveTransform$1(QueryPlan.scala:293)\n\tat org.apache.spark.sql.catalyst.plans.QueryPlan$$anonfun$6.apply(QueryPlan.scala:298)\n\tat org.apache.spark.sql.catalyst.trees.TreeNode.mapProductIterator(TreeNode.scala:187)\n\tat org.apache.spark.sql.catalyst.plans.QueryPlan.mapExpressions(QueryPlan.scala:298)\n\tat org.apache.spark.sql.catalyst.plans.QueryPlan.transformExpressionsUp(QueryPlan.scala:268)\n\tat org.apache.spark.sql.catalyst.analysis.CheckAnalysis$$anonfun$checkAnalysis$1.apply(CheckAnalysis.scala:85)\n\tat org.apache.spark.sql.catalyst.analysis.CheckAnalysis$$anonfun$checkAnalysis$1.apply(CheckAnalysis.scala:78)\n\tat org.apache.spark.sql.catalyst.trees.TreeNode.foreachUp(TreeNode.scala:127)\n\tat org.apache.spark.sql.catalyst.analysis.CheckAnalysis$class.checkAnalysis(CheckAnalysis.scala:78)\n\tat org.apache.spark.sql.catalyst.analysis.Analyzer.checkAnalysis(Analyzer.scala:91)\n\tat org.apache.spark.sql.execution.QueryExecution.assertAnalyzed(QueryExecution.scala:52)\n\tat org.apache.spark.sql.Dataset$.ofRows(Dataset.scala:66)\n\tat org.apache.spark.sql.SparkSession.sql(SparkSession.scala:623)\n\tat sun.reflect.NativeMethodAccessorImpl.invoke0(Native Method)\n\tat sun.reflect.NativeMethodAccessorImpl.invoke(NativeMethodAccessorImpl.java:62)\n\tat sun.reflect.DelegatingMethodAccessorImpl.invoke(DelegatingMethodAccessorImpl.java:43)\n\tat java.lang.reflect.Method.invoke(Method.java:498)\n\tat py4j.reflection.MethodInvoker.invoke(MethodInvoker.java:244)\n\tat py4j.reflection.ReflectionEngine.invoke(ReflectionEngine.java:357)\n\tat py4j.Gateway.invoke(Gateway.java:280)\n\tat py4j.commands.AbstractCommand.invokeMethod(AbstractCommand.java:132)\n\tat py4j.commands.CallCommand.execute(CallCommand.java:79)\n\tat py4j.GatewayConnection.run(GatewayConnection.java:214)\n\tat java.lang.Thread.run(Thread.java:748)\n",
      "\nDuring handling of the above exception, another exception occurred:\n",
      "\u001b[0;31mAnalysisException\u001b[0m                         Traceback (most recent call last)",
      "\u001b[0;32m<ipython-input-21-c4501316b932>\u001b[0m in \u001b[0;36m<module>\u001b[0;34m()\u001b[0m\n\u001b[0;32m----> 1\u001b[0;31m \u001b[0mspark\u001b[0m\u001b[0;34m.\u001b[0m\u001b[0msql\u001b[0m\u001b[0;34m(\u001b[0m\u001b[0mq1_query\u001b[0m\u001b[0;34m)\u001b[0m\u001b[0;34m.\u001b[0m\u001b[0mshow\u001b[0m\u001b[0;34m(\u001b[0m\u001b[0mtruncate\u001b[0m\u001b[0;34m=\u001b[0m\u001b[0;32mFalse\u001b[0m\u001b[0;34m)\u001b[0m\u001b[0;34m\u001b[0m\u001b[0m\n\u001b[0m",
      "\u001b[0;32m/spark-2.2.0-bin-hadoop2.6/python/pyspark/sql/session.py\u001b[0m in \u001b[0;36msql\u001b[0;34m(self, sqlQuery)\u001b[0m\n\u001b[1;32m    554\u001b[0m         \u001b[0;34m[\u001b[0m\u001b[0mRow\u001b[0m\u001b[0;34m(\u001b[0m\u001b[0mf1\u001b[0m\u001b[0;34m=\u001b[0m\u001b[0;36m1\u001b[0m\u001b[0;34m,\u001b[0m \u001b[0mf2\u001b[0m\u001b[0;34m=\u001b[0m\u001b[0;34mu'row1'\u001b[0m\u001b[0;34m)\u001b[0m\u001b[0;34m,\u001b[0m \u001b[0mRow\u001b[0m\u001b[0;34m(\u001b[0m\u001b[0mf1\u001b[0m\u001b[0;34m=\u001b[0m\u001b[0;36m2\u001b[0m\u001b[0;34m,\u001b[0m \u001b[0mf2\u001b[0m\u001b[0;34m=\u001b[0m\u001b[0;34mu'row2'\u001b[0m\u001b[0;34m)\u001b[0m\u001b[0;34m,\u001b[0m \u001b[0mRow\u001b[0m\u001b[0;34m(\u001b[0m\u001b[0mf1\u001b[0m\u001b[0;34m=\u001b[0m\u001b[0;36m3\u001b[0m\u001b[0;34m,\u001b[0m \u001b[0mf2\u001b[0m\u001b[0;34m=\u001b[0m\u001b[0;34mu'row3'\u001b[0m\u001b[0;34m)\u001b[0m\u001b[0;34m]\u001b[0m\u001b[0;34m\u001b[0m\u001b[0m\n\u001b[1;32m    555\u001b[0m         \"\"\"\n\u001b[0;32m--> 556\u001b[0;31m         \u001b[0;32mreturn\u001b[0m \u001b[0mDataFrame\u001b[0m\u001b[0;34m(\u001b[0m\u001b[0mself\u001b[0m\u001b[0;34m.\u001b[0m\u001b[0m_jsparkSession\u001b[0m\u001b[0;34m.\u001b[0m\u001b[0msql\u001b[0m\u001b[0;34m(\u001b[0m\u001b[0msqlQuery\u001b[0m\u001b[0;34m)\u001b[0m\u001b[0;34m,\u001b[0m \u001b[0mself\u001b[0m\u001b[0;34m.\u001b[0m\u001b[0m_wrapped\u001b[0m\u001b[0;34m)\u001b[0m\u001b[0;34m\u001b[0m\u001b[0m\n\u001b[0m\u001b[1;32m    557\u001b[0m \u001b[0;34m\u001b[0m\u001b[0m\n\u001b[1;32m    558\u001b[0m     \u001b[0;34m@\u001b[0m\u001b[0msince\u001b[0m\u001b[0;34m(\u001b[0m\u001b[0;36m2.0\u001b[0m\u001b[0;34m)\u001b[0m\u001b[0;34m\u001b[0m\u001b[0m\n",
      "\u001b[0;32m/spark-2.2.0-bin-hadoop2.6/python/lib/py4j-0.10.4-src.zip/py4j/java_gateway.py\u001b[0m in \u001b[0;36m__call__\u001b[0;34m(self, *args)\u001b[0m\n\u001b[1;32m   1131\u001b[0m         \u001b[0manswer\u001b[0m \u001b[0;34m=\u001b[0m \u001b[0mself\u001b[0m\u001b[0;34m.\u001b[0m\u001b[0mgateway_client\u001b[0m\u001b[0;34m.\u001b[0m\u001b[0msend_command\u001b[0m\u001b[0;34m(\u001b[0m\u001b[0mcommand\u001b[0m\u001b[0;34m)\u001b[0m\u001b[0;34m\u001b[0m\u001b[0m\n\u001b[1;32m   1132\u001b[0m         return_value = get_return_value(\n\u001b[0;32m-> 1133\u001b[0;31m             answer, self.gateway_client, self.target_id, self.name)\n\u001b[0m\u001b[1;32m   1134\u001b[0m \u001b[0;34m\u001b[0m\u001b[0m\n\u001b[1;32m   1135\u001b[0m         \u001b[0;32mfor\u001b[0m \u001b[0mtemp_arg\u001b[0m \u001b[0;32min\u001b[0m \u001b[0mtemp_args\u001b[0m\u001b[0;34m:\u001b[0m\u001b[0;34m\u001b[0m\u001b[0m\n",
      "\u001b[0;32m/spark-2.2.0-bin-hadoop2.6/python/pyspark/sql/utils.py\u001b[0m in \u001b[0;36mdeco\u001b[0;34m(*a, **kw)\u001b[0m\n\u001b[1;32m     67\u001b[0m                                              e.java_exception.getStackTrace()))\n\u001b[1;32m     68\u001b[0m             \u001b[0;32mif\u001b[0m \u001b[0ms\u001b[0m\u001b[0;34m.\u001b[0m\u001b[0mstartswith\u001b[0m\u001b[0;34m(\u001b[0m\u001b[0;34m'org.apache.spark.sql.AnalysisException: '\u001b[0m\u001b[0;34m)\u001b[0m\u001b[0;34m:\u001b[0m\u001b[0;34m\u001b[0m\u001b[0m\n\u001b[0;32m---> 69\u001b[0;31m                 \u001b[0;32mraise\u001b[0m \u001b[0mAnalysisException\u001b[0m\u001b[0;34m(\u001b[0m\u001b[0ms\u001b[0m\u001b[0;34m.\u001b[0m\u001b[0msplit\u001b[0m\u001b[0;34m(\u001b[0m\u001b[0;34m': '\u001b[0m\u001b[0;34m,\u001b[0m \u001b[0;36m1\u001b[0m\u001b[0;34m)\u001b[0m\u001b[0;34m[\u001b[0m\u001b[0;36m1\u001b[0m\u001b[0;34m]\u001b[0m\u001b[0;34m,\u001b[0m \u001b[0mstackTrace\u001b[0m\u001b[0;34m)\u001b[0m\u001b[0;34m\u001b[0m\u001b[0m\n\u001b[0m\u001b[1;32m     70\u001b[0m             \u001b[0;32mif\u001b[0m \u001b[0ms\u001b[0m\u001b[0;34m.\u001b[0m\u001b[0mstartswith\u001b[0m\u001b[0;34m(\u001b[0m\u001b[0;34m'org.apache.spark.sql.catalyst.analysis'\u001b[0m\u001b[0;34m)\u001b[0m\u001b[0;34m:\u001b[0m\u001b[0;34m\u001b[0m\u001b[0m\n\u001b[1;32m     71\u001b[0m                 \u001b[0;32mraise\u001b[0m \u001b[0mAnalysisException\u001b[0m\u001b[0;34m(\u001b[0m\u001b[0ms\u001b[0m\u001b[0;34m.\u001b[0m\u001b[0msplit\u001b[0m\u001b[0;34m(\u001b[0m\u001b[0;34m': '\u001b[0m\u001b[0;34m,\u001b[0m \u001b[0;36m1\u001b[0m\u001b[0;34m)\u001b[0m\u001b[0;34m[\u001b[0m\u001b[0;36m1\u001b[0m\u001b[0;34m]\u001b[0m\u001b[0;34m,\u001b[0m \u001b[0mstackTrace\u001b[0m\u001b[0;34m)\u001b[0m\u001b[0;34m\u001b[0m\u001b[0m\n",
      "\u001b[0;31mAnalysisException\u001b[0m: \"cannot resolve '`amount_purchased`' given input columns: [price, strength, n_purchased, name, event_type, userid, Host, event_ts]; line 3 pos 23;\\n'Aggregate [event_type#75], [event_type#75, 'sum('amount_purchased) AS ttl_purchased#157]\\n+- SubqueryAlias purchase_events\\n   +- Relation[event_ts#72,userid#73,Host#74,event_type#75,name#76,strength#77L,n_purchased#78L,price#79L] parquet\\n\""
     ]
    }
   ],
   "source": [
    "spark.sql(q1_query).show(truncate=False)"
   ]
  },
  {
   "cell_type": "code",
   "execution_count": null,
   "metadata": {
    "collapsed": true
   },
   "outputs": [],
   "source": []
  },
  {
   "cell_type": "code",
   "execution_count": null,
   "metadata": {
    "collapsed": true
   },
   "outputs": [],
   "source": []
  }
 ],
 "metadata": {
  "environment": {
   "name": "common-cpu.m78",
   "type": "gcloud",
   "uri": "gcr.io/deeplearning-platform-release/base-cpu:m78"
  },
  "kernelspec": {
   "display_name": "Python 3",
   "language": "python",
   "name": "python3"
  },
  "language_info": {
   "codemirror_mode": {
    "name": "ipython",
    "version": 3
   },
   "file_extension": ".py",
   "mimetype": "text/x-python",
   "name": "python",
   "nbconvert_exporter": "python",
   "pygments_lexer": "ipython3",
   "version": "3.6.1"
  }
 },
 "nbformat": 4,
 "nbformat_minor": 2
}
